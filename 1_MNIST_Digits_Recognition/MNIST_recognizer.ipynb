{
 "cells": [
  {
   "cell_type": "code",
   "execution_count": 1,
   "id": "ce7dd8f2-7e22-4ff0-95ba-97acaef0a50a",
   "metadata": {},
   "outputs": [],
   "source": [
    "import pandas as pd\n",
    "import numpy as np\n",
    "from matplotlib import pyplot as plt\n",
    "\n",
    "import torch\n",
    "import torchvision"
   ]
  },
  {
   "cell_type": "markdown",
   "id": "e9d3bb20-6fa8-4ce2-8e3b-52a9e6386952",
   "metadata": {},
   "source": [
    "First importing the images data from the csv file and then splitting the labeelled data into training and test dataset. "
   ]
  },
  {
   "cell_type": "code",
   "execution_count": 2,
   "id": "9df3ea9c-caa7-4be0-8acc-b7b5b1e23d32",
   "metadata": {},
   "outputs": [
    {
     "name": "stdout",
     "output_type": "stream",
     "text": [
      "Shape of training dataset:  (35700, 785)\n",
      "Shape of test dataset:  (6301, 785)\n"
     ]
    }
   ],
   "source": [
    "data = pd.read_csv('digit-recognizer/train.csv')\n",
    "data = data.dropna()\n",
    "rows, cols = data.shape\n",
    "\n",
    "np.random.shuffle(np.arange(rows))\n",
    "test_rows = np.floor(rows * 0.15)\n",
    "test = data.loc[:test_rows, :]\n",
    "train = data.loc[test_rows:, :]\n",
    "print('Shape of training dataset: ', train.shape)\n",
    "print('Shape of test dataset: ', test.shape)"
   ]
  },
  {
   "cell_type": "markdown",
   "id": "3e0ddc47-e7dc-4b0f-bd53-8fd0d4688fea",
   "metadata": {},
   "source": [
    "Before modeling, it is recommended to understand the data. For that, select 8 images from the training dataset. After selection, drop the label of the data. "
   ]
  },
  {
   "cell_type": "code",
   "execution_count": 3,
   "id": "e67d6d2f-4af7-456e-8faa-1d6a7f388530",
   "metadata": {},
   "outputs": [
    {
     "name": "stdout",
     "output_type": "stream",
     "text": [
      "(8, 785)\n",
      "(8, 784)\n"
     ]
    }
   ],
   "source": [
    "random_sel = train.sample(8)\n",
    "print(random_sel.shape)\n",
    "image_features = random_sel.drop('label', axis=1)\n",
    "print(image_features.shape)"
   ]
  },
  {
   "cell_type": "markdown",
   "id": "da840d38-cc6e-4df8-80af-6d201eafc76c",
   "metadata": {},
   "source": [
    "Next, the image vectors are converted into 2D image (height and weight) while retaining the number of images as the first dimension of the reshaped array. "
   ]
  },
  {
   "cell_type": "code",
   "execution_count": 4,
   "id": "23e4151f-32f1-4773-9ab4-7de39e195ec8",
   "metadata": {},
   "outputs": [
    {
     "name": "stdout",
     "output_type": "stream",
     "text": [
      "torch.Size([8, 28, 28])\n"
     ]
    }
   ],
   "source": [
    "image_batch = (torch.Tensor(image_features.values/255.)).reshape((-1, 28, 28))\n",
    "print(image_batch.shape)"
   ]
  },
  {
   "cell_type": "markdown",
   "id": "92c5156b-a8a7-40e4-8609-837b5f090726",
   "metadata": {},
   "source": [
    "The images tensor is now converted into a grid. "
   ]
  },
  {
   "cell_type": "code",
   "execution_count": 5,
   "id": "9411c6b2-08dc-4387-a8b3-4161789b0d66",
   "metadata": {},
   "outputs": [
    {
     "data": {
      "text/plain": [
       "torch.Size([8, 1, 28, 28])"
      ]
     },
     "execution_count": 5,
     "metadata": {},
     "output_type": "execute_result"
    }
   ],
   "source": [
    "image_batch2 = image_batch.unsqueeze(1)\n",
    "image_batch2.shape"
   ]
  },
  {
   "cell_type": "markdown",
   "id": "0ccf184a-b9f1-423d-a8ba-7ffe29d2bcfe",
   "metadata": {},
   "source": [
    "`torch.unsqueeze()` returns a new tensor with a dimension of size one inserted at the specified position. Here, the `image_batch` is changed into tensor of 4 dimensions with a new dimension of size $1$ added as the second dimension. This tensor is of the shape format (B x C x H x W) where B is the Batch size and C is the Channel size. For a single channel image, the size of the dimension is $1$.  \n",
    "\n",
    "The next function `torchvision.utils.make_grid()` takes the input tensor in the format (B x C x H x W).     \n",
    "2nd dimension of grid will be: H + padding * 2  \n",
    "3rd dimension of grid will be: B * H + padding * (B + 1)   \n"
   ]
  },
  {
   "cell_type": "code",
   "execution_count": 20,
   "id": "4e2f0524-abfc-4415-81e5-b23d7fdb5398",
   "metadata": {},
   "outputs": [
    {
     "name": "stdout",
     "output_type": "stream",
     "text": [
      "torch.Size([3, 36, 260])\n"
     ]
    }
   ],
   "source": [
    "grid = torchvision.utils.make_grid(image_batch.unsqueeze(1), nrow=8, padding=4)\n",
    "print(grid.shape)"
   ]
  },
  {
   "cell_type": "code",
   "execution_count": 21,
   "id": "fbe43690-10e2-4369-bae8-f42f8b6c621a",
   "metadata": {},
   "outputs": [
    {
     "data": {
      "text/plain": [
       "(-0.5, 259.5, 35.5, -0.5)"
      ]
     },
     "execution_count": 21,
     "metadata": {},
     "output_type": "execute_result"
    },
    {
     "data": {
      "image/png": "[encoded data removed]",
      "text/plain": [
       "<Figure size 1200x1200 with 1 Axes>"
      ]
     },
     "metadata": {},
     "output_type": "display_data"
    }
   ],
   "source": [
    "plt.figure(figsize = (12, 12))\n",
    "plt.imshow(grid.numpy().transpose((1, 2, 0)))\n",
    "plt.axis('off')"
   ]
  },
  {
   "cell_type": "code",
   "execution_count": 34,
   "id": "3c629bd2-574d-4868-9eb9-d7f8ceb3e740",
   "metadata": {},
   "outputs": [],
   "source": [
    "train_features = train.drop('label', axis=1)\n",
    "train_target = train['label']\n",
    "\n",
    "test_features = test.drop('label', axis=1)\n",
    "test_target = test['label']"
   ]
  },
  {
   "cell_type": "code",
   "execution_count": 35,
   "id": "40cc55dc-e184-4e8d-afc8-5f12de88ebdf",
   "metadata": {},
   "outputs": [],
   "source": [
    "X_train_tensor = torch.tensor(train_features.values, dtype=torch.float)\n",
    "X_test_tensor = torch.tensor(test_features.values, dtype=torch.float)\n",
    "\n",
    "Y_train_tensor = torch.tensor(train_target.values, dtype=torch.long)\n",
    "Y_test_tensor = torch.tensor(test_target.values, dtype=torch.long)"
   ]
  },
  {
   "cell_type": "code",
   "execution_count": 36,
   "id": "609989f4-45d8-48f6-ab9d-11d36a545f00",
   "metadata": {},
   "outputs": [
    {
     "name": "stdout",
     "output_type": "stream",
     "text": [
      "torch.Size([35700, 784])\n",
      "torch.Size([35700])\n",
      "torch.Size([6301, 784])\n",
      "torch.Size([6301])\n"
     ]
    }
   ],
   "source": [
    "print(X_train_tensor.shape)\n",
    "print(Y_train_tensor.shape)\n",
    "print(X_test_tensor.shape)\n",
    "print(Y_test_tensor.shape)"
   ]
  },
  {
   "cell_type": "code",
   "execution_count": 37,
   "id": "b65e6ace-381f-4cf3-a063-d8b80d049339",
   "metadata": {},
   "outputs": [],
   "source": [
    "X_train_tensor = X_train_tensor.reshape(-1, 1, 28, 28)\n",
    "X_test_tensor = X_test_tensor.reshape(-1, 1, 28, 28)"
   ]
  },
  {
   "cell_type": "code",
   "execution_count": 38,
   "id": "461edd93-2b3f-447e-9410-4a707919c7ea",
   "metadata": {},
   "outputs": [
    {
     "name": "stdout",
     "output_type": "stream",
     "text": [
      "torch.Size([35700, 1, 28, 28])\n",
      "torch.Size([35700])\n",
      "torch.Size([6301, 1, 28, 28])\n",
      "torch.Size([6301])\n"
     ]
    }
   ],
   "source": [
    "print(X_train_tensor.shape)\n",
    "print(Y_train_tensor.shape)\n",
    "print(X_test_tensor.shape)\n",
    "print(Y_test_tensor.shape)"
   ]
  },
  {
   "cell_type": "code",
   "execution_count": 39,
   "id": "98beb39c-91dd-44b7-9728-e268e3801f6f",
   "metadata": {},
   "outputs": [],
   "source": [
    "import torch.nn as nn\n",
    "import torch.nn.functional as F\n",
    "\n",
    "from sklearn.metrics import accuracy_score, precision_score, recall_score"
   ]
  },
  {
   "cell_type": "code",
   "execution_count": 129,
   "id": "c3671c42-c6ab-4a15-ab28-12a97da1cc06",
   "metadata": {},
   "outputs": [
    {
     "data": {
      "text/plain": [
       "ConvNet(\n",
       "  (layer1): Sequential(\n",
       "    (0): Conv2d(1, 16, kernel_size=(5, 5), stride=(1, 1))\n",
       "    (1): BatchNorm2d(16, eps=1e-05, momentum=0.1, affine=True, track_running_stats=True)\n",
       "    (2): ReLU()\n",
       "    (3): MaxPool2d(kernel_size=2, stride=2, padding=0, dilation=1, ceil_mode=False)\n",
       "  )\n",
       "  (layer2): Sequential(\n",
       "    (0): Conv2d(16, 32, kernel_size=(5, 5), stride=(1, 1))\n",
       "    (1): BatchNorm2d(32, eps=1e-05, momentum=0.1, affine=True, track_running_stats=True)\n",
       "    (2): ReLU()\n",
       "    (3): MaxPool2d(kernel_size=2, stride=2, padding=0, dilation=1, ceil_mode=False)\n",
       "  )\n",
       "  (fc): Linear(in_features=512, out_features=10, bias=True)\n",
       ")"
      ]
     },
     "execution_count": 129,
     "metadata": {},
     "output_type": "execute_result"
    }
   ],
   "source": [
    "# Number of channels in the input image\n",
    "in_size = 1 # Since grayscale image\n",
    "\n",
    "# Two hidden layers in the neural network\n",
    "# First has depth of 16 features/nodes\n",
    "# Second has depth of 32 features/nodes\n",
    "hid1_size = 16\n",
    "hid2_size = 32\n",
    "\n",
    "# Output from the final linear layer\n",
    "out_size = 10\n",
    "\n",
    "# Convolution kernel size of 5 x 5\n",
    "k_conv_size = 5\n",
    "\n",
    "\n",
    "class ConvNet(nn.Module):\n",
    "    \n",
    "    def __init__(self):\n",
    "        super(ConvNet, self).__init__()\n",
    "        \n",
    "        self.layer1 = nn.Sequential(\n",
    "            nn.Conv2d(in_size, hid1_size, k_conv_size),\n",
    "            nn.BatchNorm2d(hid1_size), \n",
    "            nn.ReLU(), \n",
    "            nn.MaxPool2d(kernel_size=2))\n",
    "        \n",
    "        self.layer2 = nn.Sequential(\n",
    "            nn.Conv2d(hid1_size, hid2_size, k_conv_size), \n",
    "            nn.BatchNorm2d(hid2_size),\n",
    "            nn.ReLU(),\n",
    "            nn.MaxPool2d(kernel_size=2))\n",
    "        \n",
    "        self.fc = nn.Linear(512, out_size)\n",
    "        \n",
    "    def forward(self, x):\n",
    "        out = self.layer1(x)\n",
    "        # print(out.shape)\n",
    "\n",
    "        out = self.layer2(out)\n",
    "        # print(out.shape)\n",
    "\n",
    "        out = out.reshape(out.size(0), -1)\n",
    "        # print(out.shape)\n",
    "\n",
    "        out = self.fc(out)\n",
    "        # print(out.shape)\n",
    "\n",
    "        # return out (Without softmax function)\n",
    "        return F.log_softmax(out, dim=-1)\n",
    "    \n",
    "\n",
    "model = ConvNet()\n",
    "model"
   ]
  },
  {
   "cell_type": "code",
   "execution_count": 130,
   "id": "820cb85a-421c-4048-8b22-1e0def65dd70",
   "metadata": {},
   "outputs": [
    {
     "name": "stdout",
     "output_type": "stream",
     "text": [
      "cpu\n"
     ]
    }
   ],
   "source": [
    "device = torch.device('cuda:0' if torch.cuda.is_available() else 'cpu')\n",
    "print(device)"
   ]
  },
  {
   "cell_type": "markdown",
   "id": "f74c53e5-00b2-413c-97db-fa31c27adb90",
   "metadata": {},
   "source": [
    "Two major loss functions are used for multi-class classification: \n",
    "\n",
    "    1. Cross Entropy Function\n",
    "    2. Negative Log-Likelihood Function\n",
    "    \n",
    "The difference between the two is that in Pytorch, Cross Entropy Loss Function first applies the log softmax activation function before calculating the negative log likelihood loss. \n",
    "Whereas the Negative log-likelihood "
   ]
  },
  {
   "cell_type": "code",
   "execution_count": 131,
   "id": "277c24c0-fe29-405c-9e72-a201314a06de",
   "metadata": {},
   "outputs": [],
   "source": [
    "learning_rate = 0.01\n",
    "\n",
    "# loss_criterion = nn.CrossEntropyLoss()\n",
    "loss_criterion = nn.NLLLoss() # Negative Loss Likelihood, used with softmax function\n",
    "\n",
    "optimizer = torch.optim.Adam(model.parameters(), lr=learning_rate)\n",
    "# optimizer = torch.optim.SGD(model.parameters(), lr=learlearning_rate, momentum=0.9)"
   ]
  },
  {
   "cell_type": "code",
   "execution_count": 132,
   "id": "d4a380d6-da22-4fef-b4f4-74cd2e2c50c4",
   "metadata": {},
   "outputs": [],
   "source": [
    "epochs = 20\n",
    "loss_values = list()"
   ]
  },
  {
   "cell_type": "code",
   "execution_count": 133,
   "id": "1d00b443-9732-4621-be61-697fd06d1424",
   "metadata": {},
   "outputs": [
    {
     "name": "stdout",
     "output_type": "stream",
     "text": [
      "Epoch - 1, loss - 2.397914409637451\n",
      "Epoch - 2, loss - 3.2870352268218994\n",
      "Epoch - 3, loss - 1.9077205657958984\n",
      "Epoch - 4, loss - 1.2468693256378174\n",
      "Epoch - 5, loss - 1.4038819074630737\n",
      "Epoch - 6, loss - 1.1547801494598389\n",
      "Epoch - 7, loss - 0.944354772567749\n",
      "Epoch - 8, loss - 0.7047223448753357\n",
      "Epoch - 9, loss - 0.5261828899383545\n",
      "Epoch - 10, loss - 0.4621257781982422\n",
      "Epoch - 11, loss - 0.4682979881763458\n",
      "Epoch - 12, loss - 0.47883716225624084\n",
      "Epoch - 13, loss - 0.43240538239479065\n",
      "Epoch - 14, loss - 0.35938113927841187\n",
      "Epoch - 15, loss - 0.31189998984336853\n",
      "Epoch - 16, loss - 0.2931482493877411\n",
      "Epoch - 17, loss - 0.2860753536224365\n",
      "Epoch - 18, loss - 0.28045710921287537\n",
      "Epoch - 19, loss - 0.2738623321056366\n",
      "Epoch - 20, loss - 0.26434850692749023\n"
     ]
    }
   ],
   "source": [
    "for epoch in range(epochs):\n",
    "    outputs = model(X_train_tensor)\n",
    "    loss = loss_criterion(outputs, Y_train_tensor)\n",
    "    \n",
    "    optimizer.zero_grad()\n",
    "    loss.backward()\n",
    "    optimizer.step()\n",
    "    \n",
    "    print(f'Epoch - {epoch+1}, loss - {loss.item()}')\n",
    "    loss_values.append(loss.item())"
   ]
  },
  {
   "cell_type": "code",
   "execution_count": 134,
   "id": "f41ad7ef-f3f7-451a-8d51-e919da690afc",
   "metadata": {},
   "outputs": [
    {
     "data": {
      "text/plain": [
       "Text(0, 0.5, 'Loss')"
      ]
     },
     "execution_count": 134,
     "metadata": {},
     "output_type": "execute_result"
    },
    {
     "data": {
      "image/png": "[encoded data removed]",
      "text/plain": [
       "<Figure size 800x800 with 1 Axes>"
      ]
     },
     "metadata": {},
     "output_type": "display_data"
    }
   ],
   "source": [
    "x = (range(0, 20))\n",
    "\n",
    "plt.figure(figsize = (8, 8))\n",
    "plt.plot(x, loss_values)\n",
    "plt.xlabel('Epoch')\n",
    "plt.ylabel('Loss')"
   ]
  },
  {
   "cell_type": "code",
   "execution_count": 135,
   "id": "097452f1-cd2d-4776-919c-05de419d5d36",
   "metadata": {},
   "outputs": [
    {
     "name": "stdout",
     "output_type": "stream",
     "text": [
      "Accuracy:  0.9257260752261546\n",
      "Precision:  0.9276940945975569\n",
      "Recall:  0.9257260752261546\n"
     ]
    }
   ],
   "source": [
    "model.eval()\n",
    "with torch.no_grad():\n",
    "    correct = 0\n",
    "    total = 0\n",
    "    outputs = model(X_test_tensor)\n",
    "    _, predicted = torch.max(outputs.data, 1)\n",
    "    \n",
    "    y_test = Y_test_tensor.cpu().numpy()\n",
    "    predicted = predicted.cpu()\n",
    "    \n",
    "    print('Accuracy: ', accuracy_score(predicted, y_test))\n",
    "    print('Precision: ', precision_score(predicted, y_test, average='weighted'))\n",
    "    print('Recall: ', recall_score(predicted, y_test, average='weighted'))"
   ]
  },
  {
   "cell_type": "code",
   "execution_count": null,
   "id": "a1f01be2-c600-4ed6-914b-79c519f460a9",
   "metadata": {},
   "outputs": [],
   "source": []
  }
 ],
 "metadata": {
  "kernelspec": {
   "display_name": "Python 3 (ipykernel)",
   "language": "python",
   "name": "python3"
  },
  "language_info": {
   "codemirror_mode": {
    "name": "ipython",
    "version": 3
   },
   "file_extension": ".py",
   "mimetype": "text/x-python",
   "name": "python",
   "nbconvert_exporter": "python",
   "pygments_lexer": "ipython3",
   "version": "3.9.15"
  }
 },
 "nbformat": 4,
 "nbformat_minor": 5
}
