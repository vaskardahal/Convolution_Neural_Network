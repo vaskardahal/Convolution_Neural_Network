{
 "cells": [
  {
   "cell_type": "code",
   "execution_count": 1,
   "id": "16fc9273-17a0-4fec-8df7-17df7688eb68",
   "metadata": {},
   "outputs": [],
   "source": [
    "import numpy as np\n",
    "from matplotlib import pyplot as plt\n",
    "\n",
    "import torch\n",
    "import torchvision\n",
    "import torch.nn as nn\n",
    "import torch.nn.functional as F\n",
    "import torchvision.transforms as transforms"
   ]
  },
  {
   "cell_type": "markdown",
   "id": "c55487cd-387a-4365-8b26-9a2f47079798",
   "metadata": {},
   "source": [
    "## Preprocessing to get mean & std of images"
   ]
  },
  {
   "cell_type": "code",
   "execution_count": 2,
   "id": "41c4bce5-669d-470e-92cc-a81ad629475a",
   "metadata": {},
   "outputs": [],
   "source": [
    "pre_transform = transforms.Compose([\n",
    "        transforms.ToTensor()\n",
    "])"
   ]
  },
  {
   "cell_type": "code",
   "execution_count": 3,
   "id": "99e4610a-3d9d-462e-86fa-352e346dc531",
   "metadata": {},
   "outputs": [
    {
     "name": "stdout",
     "output_type": "stream",
     "text": [
      "Files already downloaded and verified\n"
     ]
    }
   ],
   "source": [
    "predataset = torchvision.datasets.CIFAR10(root ='dataset/preprocess/train', \n",
    "                                        train = True,\n",
    "                                        download = True, \n",
    "                                        transform = pre_transform)"
   ]
  },
  {
   "cell_type": "code",
   "execution_count": 4,
   "id": "76656e97-dcfd-41b2-99b1-94780ac4db07",
   "metadata": {},
   "outputs": [
    {
     "name": "stdout",
     "output_type": "stream",
     "text": [
      "Dataset CIFAR10\n",
      "    Number of datapoints: 50000\n",
      "    Root location: dataset/preprocess/train\n",
      "    Split: Train\n",
      "    StandardTransform\n",
      "Transform: Compose(\n",
      "               ToTensor()\n",
      "           )\n"
     ]
    }
   ],
   "source": [
    "print(predataset)"
   ]
  },
  {
   "cell_type": "code",
   "execution_count": 5,
   "id": "d43474bf-c5fd-4ac2-a6ad-7b7631955ace",
   "metadata": {},
   "outputs": [],
   "source": [
    "predataloader = torch.utils.data.DataLoader(predataset, \n",
    "                                         batch_size=16, shuffle=True, \n",
    "                                         num_workers=2)"
   ]
  },
  {
   "cell_type": "code",
   "execution_count": 6,
   "id": "58da6b0d-25c6-4f99-9dcc-7d54e427e533",
   "metadata": {},
   "outputs": [],
   "source": [
    "pop_mean = []\n",
    "pop_std = []\n",
    "for i, data in enumerate(predataloader): \n",
    "    numpy_image = data[0].numpy()\n",
    "    \n",
    "    batch_mean = np.mean(numpy_image, axis=(0, 2, 3))\n",
    "    batch_std = np.std(numpy_image, axis=(0, 2, 3))\n",
    "    pop_mean.append(batch_mean)\n",
    "    pop_std.append(batch_std)"
   ]
  },
  {
   "cell_type": "code",
   "execution_count": 7,
   "id": "f7beccc7-9832-42e8-9b1e-8ed666bf5499",
   "metadata": {},
   "outputs": [
    {
     "name": "stdout",
     "output_type": "stream",
     "text": [
      "(3125, 3)\n",
      "(3125, 3)\n"
     ]
    }
   ],
   "source": [
    "pop_mean = np.array(pop_mean)\n",
    "pop_std = np.array(pop_std)\n",
    "print(pop_mean.shape)\n",
    "print(pop_std.shape)"
   ]
  },
  {
   "cell_type": "code",
   "execution_count": 8,
   "id": "44e3fe4a-ba62-4ad7-a301-c1ae1ee41b12",
   "metadata": {},
   "outputs": [
    {
     "name": "stdout",
     "output_type": "stream",
     "text": [
      "[0.49139938 0.48215815 0.4465311 ]\n",
      "[0.24436055 0.24084    0.25819105]\n"
     ]
    }
   ],
   "source": [
    "pop_mean = pop_mean.mean(axis=0)\n",
    "pop_std = pop_std.mean(axis=0)\n",
    "print(pop_mean)\n",
    "print(pop_std)"
   ]
  },
  {
   "cell_type": "markdown",
   "id": "787ba288-a5dc-436d-860b-c1d8024eb78f",
   "metadata": {},
   "source": [
    "## Preparing the input dataset"
   ]
  },
  {
   "cell_type": "code",
   "execution_count": 11,
   "id": "7ea1ca6d-6e08-46ac-9c25-bd4a8fb1326c",
   "metadata": {},
   "outputs": [],
   "source": [
    "train_transform = transforms.Compose([\n",
    "        transforms.Resize(32), \n",
    "        transforms.RandomHorizontalFlip(), \n",
    "        transforms.ToTensor(), \n",
    "        transforms.Normalize(pop_mean, pop_std)\n",
    "])\n",
    "\n",
    "test_transform = transforms.Compose([\n",
    "        transforms.Resize(32), \n",
    "        transforms.ToTensor(), \n",
    "        transforms.Normalize(pop_mean, pop_std)\n",
    "])"
   ]
  },
  {
   "cell_type": "code",
   "execution_count": 12,
   "id": "3b38334d-eb20-4163-91fd-041d00152f0e",
   "metadata": {},
   "outputs": [
    {
     "name": "stdout",
     "output_type": "stream",
     "text": [
      "Files already downloaded and verified\n",
      "Files already downloaded and verified\n"
     ]
    }
   ],
   "source": [
    "trainset = torchvision.datasets.CIFAR10(root ='dataset/postprocess/train', \n",
    "                                        train = True,\n",
    "                                        download = True, \n",
    "                                        transform = train_transform)\n",
    "\n",
    "testset = torchvision.datasets.CIFAR10(root ='dataset/postprocess/test', \n",
    "                                        train = False,\n",
    "                                        download = True, \n",
    "                                        transform = test_transform)"
   ]
  },
  {
   "cell_type": "code",
   "execution_count": 46,
   "id": "a7d8373a-d16a-4455-966b-feb9017a7358",
   "metadata": {},
   "outputs": [
    {
     "name": "stdout",
     "output_type": "stream",
     "text": [
      "<torch.utils.data.dataloader.DataLoader object at 0x000001D57200B1F0>\n"
     ]
    }
   ],
   "source": [
    "trainloader = torch.utils.data.DataLoader(trainset, \n",
    "                                          batch_size = 16, \n",
    "                                          shuffle = True, \n",
    "                                          num_workers = 2)\n",
    "\n",
    "testloader = torch.utils.data.DataLoader(testset, \n",
    "                                         batch_size = 16, \n",
    "                                         shuffle = False, \n",
    "                                         num_workers = 2)\n",
    "\n",
    "print(trainloader)"
   ]
  },
  {
   "cell_type": "markdown",
   "id": "85028b91-65a2-4fef-939f-4dc06a8a7b4d",
   "metadata": {},
   "source": [
    "Next, looking at the classes into which the images in the `trainset` can be categorized. "
   ]
  },
  {
   "cell_type": "code",
   "execution_count": 47,
   "id": "c87d86c2-598f-4df6-a805-92cdf9abd67e",
   "metadata": {},
   "outputs": [
    {
     "name": "stdout",
     "output_type": "stream",
     "text": [
      "['airplane', 'automobile', 'bird', 'cat', 'deer', 'dog', 'frog', 'horse', 'ship', 'truck']\n"
     ]
    }
   ],
   "source": [
    "class_names = trainset.classes\n",
    "print(class_names)"
   ]
  },
  {
   "cell_type": "markdown",
   "id": "3751b22b-247e-43bc-85f5-5f045ba98044",
   "metadata": {},
   "source": [
    "Labels are numeric values that correspond to the classnames. "
   ]
  },
  {
   "cell_type": "code",
   "execution_count": 49,
   "id": "5993d7cc-3047-4e7f-8d96-0507ed9f2aec",
   "metadata": {},
   "outputs": [
    {
     "data": {
      "text/plain": [
       "tensor([1, 1, 6, 7, 5, 7, 4, 9, 3, 9, 9, 4, 8, 3, 3, 6])"
      ]
     },
     "execution_count": 49,
     "metadata": {},
     "output_type": "execute_result"
    }
   ],
   "source": [
    "label"
   ]
  },
  {
   "cell_type": "markdown",
   "id": "e1132446-914a-4320-a1d7-25e72decd1fa",
   "metadata": {},
   "source": [
    "## Defining the DNN architecture"
   ]
  },
  {
   "cell_type": "code",
   "execution_count": 57,
   "id": "485fed54-04b9-446d-ad18-7e4ca0ebb34e",
   "metadata": {},
   "outputs": [],
   "source": [
    "in_size = 3\n",
    "\n",
    "hid1_size = 16\n",
    "hid2_size = 32\n",
    "\n",
    "out1_size = 400\n",
    "out2_size = 10\n",
    "\n",
    "k_conv_size = 5"
   ]
  },
  {
   "cell_type": "code",
   "execution_count": 77,
   "id": "dc4bd5f7-a8b8-4d51-a98a-9869ea8563ee",
   "metadata": {},
   "outputs": [
    {
     "data": {
      "text/plain": [
       "ConvNet(\n",
       "  (layer1): Sequential(\n",
       "    (0): Conv2d(3, 16, kernel_size=(5, 5), stride=(1, 1))\n",
       "    (1): BatchNorm2d(16, eps=1e-05, momentum=0.1, affine=True, track_running_stats=True)\n",
       "    (2): ReLU()\n",
       "    (3): MaxPool2d(kernel_size=2, stride=2, padding=0, dilation=1, ceil_mode=False)\n",
       "  )\n",
       "  (layer2): Sequential(\n",
       "    (0): Conv2d(16, 32, kernel_size=(5, 5), stride=(1, 1))\n",
       "    (1): BatchNorm2d(32, eps=1e-05, momentum=0.1, affine=True, track_running_stats=True)\n",
       "    (2): ReLU()\n",
       "    (3): MaxPool2d(kernel_size=2, stride=2, padding=0, dilation=1, ceil_mode=False)\n",
       "  )\n",
       "  (layer3): Sequential(\n",
       "    (0): Linear(in_features=800, out_features=400, bias=True)\n",
       "    (1): ReLU()\n",
       "    (2): Dropout(p=0.5, inplace=False)\n",
       "    (3): Linear(in_features=400, out_features=10, bias=True)\n",
       "  )\n",
       ")"
      ]
     },
     "execution_count": 77,
     "metadata": {},
     "output_type": "execute_result"
    }
   ],
   "source": [
    "class ConvNet(nn.Module):\n",
    "    \n",
    "    def __init__(self):\n",
    "        super(ConvNet, self).__init__()\n",
    "        \n",
    "        self.layer1 = nn.Sequential(\n",
    "            nn.Conv2d(in_size, hid1_size, k_conv_size), \n",
    "            nn.BatchNorm2d(hid1_size), \n",
    "            nn.ReLU(), \n",
    "            # nn.ELU() # Exponential Linear Unit\n",
    "            nn.MaxPool2d(kernel_size = 2))\n",
    "            ## nn.AvgPool2d(kernel_size = 2))\n",
    "            ## nn.LPPool2d(1, kernel_size = 2))\n",
    "            ## LPPool is a 2D power average pooling\n",
    "            ## Takes input parameter p\n",
    "            ## p = infinity => Max Pooling\n",
    "            ## p = 1 => Average Pooling\n",
    "        \n",
    "        self.layer2 = nn.Sequential(\n",
    "            nn.Conv2d(hid1_size, hid2_size, k_conv_size), \n",
    "            nn.BatchNorm2d(hid2_size), \n",
    "            nn.ReLU(), \n",
    "            # nn.ELU() \n",
    "            nn.MaxPool2d(kernel_size = 2))\n",
    "        \n",
    "        self.layer3 = nn.Sequential(\n",
    "            nn.Linear(hid2_size * k_conv_size * k_conv_size, out1_size), \n",
    "            nn.ReLU(), \n",
    "            # nn.ELU()\n",
    "            nn.Dropout(0.5), \n",
    "            nn.Linear(out1_size, out2_size))\n",
    "        \n",
    "    def forward(self, x):\n",
    "\n",
    "        out = self.layer1(x)\n",
    "        # print(out.shape)\n",
    "\n",
    "        out = self.layer2(out)\n",
    "        # print(out.shape)\n",
    "\n",
    "        out = out.reshape(out.size(0), -1)\n",
    "        # print(out.shape)\n",
    "\n",
    "        out = self.layer3(out)\n",
    "        # print(out.shape)\n",
    "\n",
    "        return F.log_softmax(out, dim = -1)\n",
    "\n",
    "\n",
    "model = ConvNet()\n",
    "model"
   ]
  },
  {
   "cell_type": "markdown",
   "id": "20257624-e529-4a95-baa5-f973dbb9c8ce",
   "metadata": {},
   "source": [
    "Set up the parameters to train the model. "
   ]
  },
  {
   "cell_type": "markdown",
   "id": "e1e81460-2515-42ba-a556-86ec643bc52d",
   "metadata": {},
   "source": [
    "## Training the model with trainset"
   ]
  },
  {
   "cell_type": "code",
   "execution_count": 59,
   "id": "92c1dc34-3628-4196-a508-94a9e9733b64",
   "metadata": {},
   "outputs": [],
   "source": [
    "learning_rate = 0.001\n",
    "\n",
    "loss_criterion = nn.NLLLoss()\n",
    "\n",
    "optimizer = torch.optim.Adam(model.parameters(), \n",
    "                             lr = learning_rate)"
   ]
  },
  {
   "cell_type": "code",
   "execution_count": 60,
   "id": "a8e9d918-35d6-467d-b882-2dad8522e6f9",
   "metadata": {},
   "outputs": [],
   "source": [
    "total_step = len(trainloader)\n",
    "num_epochs = 10\n",
    "loss_values = list()"
   ]
  },
  {
   "cell_type": "code",
   "execution_count": 61,
   "id": "177128c4-be2e-4019-8592-184882e48522",
   "metadata": {},
   "outputs": [
    {
     "name": "stdout",
     "output_type": "stream",
     "text": [
      "Epoch [1/10], Step [1000/3125], Loss: 1.3280588388442993\n",
      "Epoch [1/10], Step [2000/3125], Loss: 1.0543204545974731\n",
      "Epoch [1/10], Step [3000/3125], Loss: 1.217220664024353\n",
      "Epoch [2/10], Step [1000/3125], Loss: 0.8617454767227173\n",
      "Epoch [2/10], Step [2000/3125], Loss: 1.539162516593933\n",
      "Epoch [2/10], Step [3000/3125], Loss: 0.8273030519485474\n",
      "Epoch [3/10], Step [1000/3125], Loss: 0.7677850723266602\n",
      "Epoch [3/10], Step [2000/3125], Loss: 0.8205744028091431\n",
      "Epoch [3/10], Step [3000/3125], Loss: 1.0069185495376587\n",
      "Epoch [4/10], Step [1000/3125], Loss: 1.4483381509780884\n",
      "Epoch [4/10], Step [2000/3125], Loss: 1.0281654596328735\n",
      "Epoch [4/10], Step [3000/3125], Loss: 1.4514272212982178\n",
      "Epoch [5/10], Step [1000/3125], Loss: 1.2952697277069092\n",
      "Epoch [5/10], Step [2000/3125], Loss: 0.9368324279785156\n",
      "Epoch [5/10], Step [3000/3125], Loss: 0.9838365912437439\n",
      "Epoch [6/10], Step [1000/3125], Loss: 1.024109125137329\n",
      "Epoch [6/10], Step [2000/3125], Loss: 0.79458087682724\n",
      "Epoch [6/10], Step [3000/3125], Loss: 0.7076602578163147\n",
      "Epoch [7/10], Step [1000/3125], Loss: 0.6565146446228027\n",
      "Epoch [7/10], Step [2000/3125], Loss: 0.8532108068466187\n",
      "Epoch [7/10], Step [3000/3125], Loss: 0.7755647301673889\n",
      "Epoch [8/10], Step [1000/3125], Loss: 1.6114530563354492\n",
      "Epoch [8/10], Step [2000/3125], Loss: 0.601804792881012\n",
      "Epoch [8/10], Step [3000/3125], Loss: 0.4403899908065796\n",
      "Epoch [9/10], Step [1000/3125], Loss: 0.38184088468551636\n",
      "Epoch [9/10], Step [2000/3125], Loss: 0.35732850432395935\n",
      "Epoch [9/10], Step [3000/3125], Loss: 1.061015248298645\n",
      "Epoch [10/10], Step [1000/3125], Loss: 1.0344048738479614\n",
      "Epoch [10/10], Step [2000/3125], Loss: 0.9383835792541504\n",
      "Epoch [10/10], Step [3000/3125], Loss: 0.6267593502998352\n",
      "Training finished\n"
     ]
    }
   ],
   "source": [
    "model.train()\n",
    "for epoch in range(num_epochs):\n",
    "    for i, (images, labels) in enumerate(trainloader):\n",
    "        \n",
    "        outputs = model(images)\n",
    "        loss = loss_criterion(outputs, labels)\n",
    "        \n",
    "        optimizer.zero_grad()\n",
    "        loss.backward()\n",
    "        optimizer.step()\n",
    "        \n",
    "        if (i+1) % 1000 == 0:\n",
    "            print(f'Epoch [{epoch+1}/{num_epochs}],', \n",
    "                  f'Step [{i + 1}/{total_step}],', \n",
    "                  f'Loss: {loss.item()}')\n",
    "            loss_values.append(loss.item())\n",
    "\n",
    "print('Training finished')\n",
    "        "
   ]
  },
  {
   "cell_type": "code",
   "execution_count": 62,
   "id": "7974dec3-b95c-4384-bb5d-8f77bb8eebee",
   "metadata": {},
   "outputs": [
    {
     "data": {
      "text/plain": [
       "Text(0, 0.5, 'Loss')"
      ]
     },
     "execution_count": 62,
     "metadata": {},
     "output_type": "execute_result"
    },
    {
     "data": {
      "image/png": "[encoded data removed]",
      "text/plain": [
       "<Figure size 1200x1000 with 1 Axes>"
      ]
     },
     "metadata": {},
     "output_type": "display_data"
    }
   ],
   "source": [
    "x = range(len(loss_values))\n",
    "\n",
    "plt.figure(figsize = (12, 10))\n",
    "plt.plot(x, loss_values)\n",
    "plt.xlabel('Step')\n",
    "plt.ylabel('Loss')"
   ]
  },
  {
   "cell_type": "markdown",
   "id": "8d8f0477-d8bd-462b-9a29-201e62257f4c",
   "metadata": {},
   "source": [
    "## Evaluating the model performance"
   ]
  },
  {
   "cell_type": "code",
   "execution_count": 63,
   "id": "038d10af-c2cf-4365-aba0-6fb08593ec29",
   "metadata": {},
   "outputs": [
    {
     "name": "stdout",
     "output_type": "stream",
     "text": [
      "Accuracy of model on 10K images: 72.65%\n"
     ]
    }
   ],
   "source": [
    "model.eval()\n",
    "\n",
    "with torch.no_grad():\n",
    "    correct = 0\n",
    "    total = 0\n",
    "    \n",
    "    for images, labels in testloader:\n",
    "        \n",
    "        outputs = model(images)\n",
    "        _, predicted = torch.max(outputs.data, 1)\n",
    "        total += labels.size(0)\n",
    "        correct += (predicted == labels).sum().item()\n",
    "        \n",
    "    print(f'Accuracy of model on 10K images: {100 * correct/total}%') "
   ]
  },
  {
   "cell_type": "markdown",
   "id": "0f587412-6f68-460e-bee7-c679d14d8ca9",
   "metadata": {},
   "source": [
    "Making a prediction using the model on a sample image picked up from the test dataset. "
   ]
  },
  {
   "cell_type": "markdown",
   "id": "da5080af-5f04-4a67-84bd-b07bf9876211",
   "metadata": {},
   "source": [
    "## Predicting a random sample of image"
   ]
  },
  {
   "cell_type": "code",
   "execution_count": 50,
   "id": "32d9f9c7-6cd1-454b-9fd6-fe63bdb4539d",
   "metadata": {},
   "outputs": [
    {
     "name": "stdout",
     "output_type": "stream",
     "text": [
      "Image Label: 8 => Image Class: ship\n",
      "torch.Size([3, 32, 32])\n"
     ]
    }
   ],
   "source": [
    "randidx = np.random.randint(low=0, \n",
    "                            high=len(testset), \n",
    "                            size=1)[0]\n",
    "sample_img, img_label = testset[randidx]\n",
    "#sample_img, img_label = testset[23]\n",
    "print(f'Image Label: {img_label} => Image Class: {class_names[img_label]}')\n",
    "print(sample_img.shape)"
   ]
  },
  {
   "cell_type": "markdown",
   "id": "1f477315-5644-4730-9679-0ec29cfef2a1",
   "metadata": {},
   "source": [
    "This is a $32$ x $32$ image with the channel information $(3)$ as the first dimension. We need to transpose the axes of this image so that the channel info is at the end of the dimensions, if we want to plot it in matplotlib."
   ]
  },
  {
   "cell_type": "code",
   "execution_count": 51,
   "id": "640a594c-3794-4828-8126-9f3d45fdc39a",
   "metadata": {},
   "outputs": [
    {
     "name": "stdout",
     "output_type": "stream",
     "text": [
      "torch.Size([32, 32, 3])\n"
     ]
    }
   ],
   "source": [
    "sample_img = np.transpose(sample_img, (1, 2, 0))\n",
    "print(sample_img.shape)"
   ]
  },
  {
   "cell_type": "markdown",
   "id": "6f1281fc-cdc2-4416-8f08-ce4c21b6e1d8",
   "metadata": {},
   "source": [
    "Also, rescale the image such that the pixel values are between 0 and 1 and centered at 0.5."
   ]
  },
  {
   "cell_type": "code",
   "execution_count": 52,
   "id": "84e0f61a-477f-4930-bb61-5f686bb08f35",
   "metadata": {},
   "outputs": [],
   "source": [
    "m, M = sample_img.min(), sample_img.max()\n",
    "sample_img = (1/(abs(m) * M)) * sample_img + 0.5"
   ]
  },
  {
   "cell_type": "markdown",
   "id": "d635d0db-8d47-4061-a005-4a3a48fa8414",
   "metadata": {},
   "source": [
    "Plot the image"
   ]
  },
  {
   "cell_type": "code",
   "execution_count": 53,
   "id": "07111c3c-af80-4092-a03e-ec90605adfae",
   "metadata": {},
   "outputs": [
    {
     "name": "stderr",
     "output_type": "stream",
     "text": [
      "Clipping input data to the valid range for imshow with RGB data ([0..1] for floats or [0..255] for integers).\n"
     ]
    },
    {
     "data": {
      "text/plain": [
       "<matplotlib.image.AxesImage at 0x1d5721f8f70>"
      ]
     },
     "execution_count": 53,
     "metadata": {},
     "output_type": "execute_result"
    },
    {
     "data": {
      "image/png": "[encoded data removed]",
      "text/plain": [
       "<Figure size 600x600 with 1 Axes>"
      ]
     },
     "metadata": {},
     "output_type": "display_data"
    }
   ],
   "source": [
    "plt.figure(figsize = (6, 6))\n",
    "plt.imshow(sample_img)"
   ]
  },
  {
   "cell_type": "markdown",
   "id": "41f68e5f-302d-47be-bfa8-d28fa34034dc",
   "metadata": {},
   "source": [
    "Extracting this random image again as test image. Also, reshape this test image in a format (or dimensions) that our model expect - batch, channels, height, width. "
   ]
  },
  {
   "cell_type": "code",
   "execution_count": 64,
   "id": "a21358d8-3cf1-4466-b3fb-5e0eeb45ed35",
   "metadata": {},
   "outputs": [],
   "source": [
    "test_img, test_label = testset[randidx]\n",
    "test_img = test_img.reshape(-1, 3, 32, 32)"
   ]
  },
  {
   "cell_type": "markdown",
   "id": "ef4ab86d-f3f0-4e47-ad41-fa405124d331",
   "metadata": {},
   "source": [
    "Now, using the trained model to predict the test image. `out_predict` returns a tensor of softmax values of length $10$, since we have $10$ classes, and also because the output layer of the Fully Connected Layer has $10$ nodes.   \n",
    "The index of maximum of these softmax values (argmax) is the predicted class. "
   ]
  },
  {
   "cell_type": "code",
   "execution_count": 73,
   "id": "7400a212-3aff-4eb7-92fd-6e68c1d6c4f6",
   "metadata": {},
   "outputs": [],
   "source": [
    "out_predict = model(test_img)\n",
    "_, predicted = torch.max(out_predict.data, 1)"
   ]
  },
  {
   "cell_type": "code",
   "execution_count": 75,
   "id": "decda5e2-e640-4221-8cef-798ccedf22c9",
   "metadata": {},
   "outputs": [
    {
     "name": "stdout",
     "output_type": "stream",
     "text": [
      "Actual label: 8 \n",
      " Predicted label: 8\n"
     ]
    }
   ],
   "source": [
    "print(f'Actual label: {test_label}', \n",
    "      '\\n', \n",
    "      f'Predicted label: {predicted.item()}')"
   ]
  }
 ],
 "metadata": {
  "kernelspec": {
   "display_name": "Python 3 (ipykernel)",
   "language": "python",
   "name": "python3"
  },
  "language_info": {
   "codemirror_mode": {
    "name": "ipython",
    "version": 3
   },
   "file_extension": ".py",
   "mimetype": "text/x-python",
   "name": "python",
   "nbconvert_exporter": "python",
   "pygments_lexer": "ipython3",
   "version": "3.9.15"
  }
 },
 "nbformat": 4,
 "nbformat_minor": 5
}
